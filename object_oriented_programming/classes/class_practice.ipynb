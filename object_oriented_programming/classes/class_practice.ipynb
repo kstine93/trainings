{
 "cells": [
  {
   "cell_type": "code",
   "execution_count": 2,
   "metadata": {},
   "outputs": [],
   "source": [
    "from abc import ABC,abstractclassmethod"
   ]
  },
  {
   "cell_type": "code",
   "execution_count": 3,
   "metadata": {},
   "outputs": [],
   "source": [
    "class Employee(ABC):\n",
    "    #Note: by specifying named arguments in __init__, we say that these data are required for instantiating the classs\n",
    "\n",
    "    def __init__(self,id,name):\n",
    "        self.id = id\n",
    "        self.name = name\n",
    "\n",
    "    def __str__(self):\n",
    "        return f\"ID: {self.id}\\nName: {self.name}\"\n",
    "\n",
    "    @abstractclassmethod\n",
    "    def calculate_monthly_paycheck(self):\n",
    "        pass\n"
   ]
  },
  {
   "cell_type": "code",
   "execution_count": 4,
   "metadata": {},
   "outputs": [],
   "source": [
    "from email.mime import base\n",
    "\n",
    "#-----------------------\n",
    "class SalariedEmployee(Employee):\n",
    "    def __init__(self,id,name,annual_salary):\n",
    "        #By using 'super' here, we are saying that we want to initialize this class instance as the base class,\n",
    "        #following the __init__ procedure defined there (way to not repeat common code)\n",
    "        super().__init__(id,name)\n",
    "        self.annual_salary = annual_salary\n",
    "    \n",
    "    def calculate_monthly_paycheck(self):\n",
    "        return self.annual_salary / 12\n",
    "\n",
    "#-----------------------\n",
    "class HourlyEmployee(Employee):\n",
    "    def __init__(self,id,name,hourly_wage):\n",
    "        super().__init__(id,name)\n",
    "        self.hourly_wage = hourly_wage\n",
    "\n",
    "    def calculate_monthly_paycheck(self):\n",
    "        wage = self.hourly_wage * self.outstanding_hours_worked\n",
    "        self.outstanding_hours_worked = 0\n",
    "        return wage\n",
    "\n",
    "#-----------------------\n",
    "class CommissionSalariedEmployee(SalariedEmployee):\n",
    "    def __init__(self,id,name,annual_salary):\n",
    "        super().__init__(id,name,annual_salary)\n",
    "        self.commission_wages = 0\n",
    "\n",
    "    def set_commission_wages(self,commission_wages):\n",
    "        self.commission_wages = commission_wages\n",
    "\n",
    "    def calculate_monthly_paycheck(self):\n",
    "        base_wages = super().calculate_monthly_paycheck()\n",
    "        return base_wages + self.commission_wages"
   ]
  },
  {
   "cell_type": "code",
   "execution_count": 5,
   "metadata": {},
   "outputs": [
    {
     "data": {
      "text/plain": [
       "5116.666666666667"
      ]
     },
     "execution_count": 5,
     "metadata": {},
     "output_type": "execute_result"
    }
   ],
   "source": [
    "Deborah = CommissionSalariedEmployee(\"0001\",\"Deborah Brooks\",53000)\n",
    "\n",
    "Deborah.set_commission_wages(700)\n",
    "\n",
    "Deborah.calculate_monthly_paycheck()"
   ]
  },
  {
   "cell_type": "code",
   "execution_count": 6,
   "metadata": {},
   "outputs": [
    {
     "name": "stdout",
     "output_type": "stream",
     "text": [
      "ID: 0001\n",
      "Name: Deborah Brooks\n"
     ]
    }
   ],
   "source": [
    "#Since we have re-defined __str__ in the Employee base class, we \n",
    "print(Deborah)"
   ]
  }
 ],
 "metadata": {
  "kernelspec": {
   "display_name": "Python 3.10.6 64-bit",
   "language": "python",
   "name": "python3"
  },
  "language_info": {
   "codemirror_mode": {
    "name": "ipython",
    "version": 3
   },
   "file_extension": ".py",
   "mimetype": "text/x-python",
   "name": "python",
   "nbconvert_exporter": "python",
   "pygments_lexer": "ipython3",
   "version": "3.10.6"
  },
  "orig_nbformat": 4,
  "vscode": {
   "interpreter": {
    "hash": "916dbcbb3f70747c44a77c7bcd40155683ae19c65e1c03b4aa3499c5328201f1"
   }
  }
 },
 "nbformat": 4,
 "nbformat_minor": 2
}
